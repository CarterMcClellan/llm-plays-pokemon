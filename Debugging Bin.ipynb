{
 "cells": [
  {
   "cell_type": "code",
   "execution_count": 2,
   "id": "6bf9957f-26e4-43ee-bc9b-c598c156fc44",
   "metadata": {},
   "outputs": [
    {
     "name": "stderr",
     "output_type": "stream",
     "text": [
      "UserWarning: Using SDL2 binaries from pysdl2-dll 2.30.10\n"
     ]
    }
   ],
   "source": [
    "from pyboy.core.mb import Motherboard\n",
    "from pyboy import PyBoyMemoryView"
   ]
  },
  {
   "cell_type": "code",
   "execution_count": 3,
   "id": "147e1586-13ea-450f-a7c5-a0bd47e8cf4b",
   "metadata": {},
   "outputs": [],
   "source": [
    "# Initializing Motherboard with gamerom: \n",
    "# red.gbc, \n",
    "# bootrom: None, \n",
    "# color_palette: (16777215, 10066329, 5592405, 0), \n",
    "# cgb_color_palette: ((16777215, 8126257, 25541, 0), \n",
    "# (16777215, 16745604, 9714234, 0), \n",
    "# (16777215, 16745604, 9714234, 0)), \n",
    "# sound: False, \n",
    "# sound_emulated: False, \n",
    "# cgb: None, \n",
    "# randomize: False"
   ]
  },
  {
   "cell_type": "code",
   "execution_count": 4,
   "id": "a24a8fc0-15f8-44c5-82bf-1eb526e6eefb",
   "metadata": {},
   "outputs": [],
   "source": [
    "class RamReader:\n",
    "    def __init__(self, gbc):\n",
    "        mb = Motherboard(\n",
    "            \"red.gbc\",\n",
    "            None,\n",
    "            (16777215, 10066329, 5592405, 0),\n",
    "            ((16777215, 8126257, 25541, 0), \n",
    "                (16777215, 16745604, 9714234, 0), \n",
    "                (16777215, 16745604, 9714234, 0)\n",
    "            ),\n",
    "            False,\n",
    "            False,\n",
    "            None,\n",
    "            False,\n",
    "        )\n",
    "        \n",
    "        self.memory = PyBoyMemoryView(mb)"
   ]
  },
  {
   "cell_type": "code",
   "execution_count": 5,
   "id": "c88b5d3c-ad8d-4362-82eb-f70410e75828",
   "metadata": {},
   "outputs": [],
   "source": [
    "pyboy = RamReader(\"red.gbc\")"
   ]
  },
  {
   "cell_type": "markdown",
   "id": "86c5231e-7611-4cc3-8a55-63d257e7d7ad",
   "metadata": {},
   "source": [
    "the theory is that 0xA598 is the address of the player name in sram\n",
    "```\n",
    "0x0000 - 0x3FFF : ROM Bank 0\n",
    "0x4000 - 0x7FFF : ROM Bank 1-N (switchable)\n",
    "0x8000 - 0x9FFF : Video RAM (VRAM)\n",
    "0xA000 - 0xBFFF : External/Cartridge RAM (SRAM)\n",
    "0xC000 - 0xDFFF : Work RAM (WRAM)\n",
    "0xE000 - 0xFDFF : Echo RAM (mirror of 0xC000-0xDDFF)\n",
    "0xFE00 - 0xFE9F : Sprite Attribute Memory (OAM)\n",
    "0xFEA0 - 0xFEFF : Not Usable\n",
    "0xFF00 - 0xFF7F : I/O Registers\n",
    "0xFF80 - 0xFFFE : High RAM (HRAM)\n",
    "0xFFFF         : Interrupt Enable Register\n",
    "```\n",
    "[here](https://gbdev.io/pandocs/Memory_Map.html) is a deeper dive\n",
    "\n",
    "[here](https://bulbapedia.bulbagarden.net/wiki/Character_encoding_(Generation_I)#English) is the character encoding business"
   ]
  },
  {
   "cell_type": "code",
   "execution_count": 46,
   "id": "155980be-9307-4f1e-a2a1-a75d14287000",
   "metadata": {},
   "outputs": [],
   "source": [
    "CHAR_MAP = {\n",
    "    # Control characters (row 6)\n",
    "    0x60: 'A', 0x61: 'B', 0x62: 'C', 0x63: 'D', 0x64: 'E', 0x65: 'F',\n",
    "    0x66: 'G', 0x67: 'H', 0x68: 'I', 0x69: 'V', 0x6A: 'S', 0x6B: 'L',\n",
    "    0x6C: 'M', 0x6D: ':', 0x6E: 'い', 0x6F: 'う',\n",
    "\n",
    "    # Row 7 (special characters)\n",
    "    0x70: ''', 0x71: ''', 0x72: 'u', 0x73: '\"', 0x74: '・',\n",
    "    0x75: '...', 0x76: 'あ', 0x77: 'え', 0x78: 'お', 0x79: '┌',\n",
    "    0x7A: '=', 0x7B: '┐', 0x7C: '|', 0x7D: '└', 0x7E: '┘',\n",
    "    0x7F: 'SP',\n",
    "\n",
    "    # Upper case letters (row 8)\n",
    "    0x80: 'A', 0x81: 'B', 0x82: 'C', 0x83: 'D', 0x84: 'E', 0x85: 'F',\n",
    "    0x86: 'G', 0x87: 'H', 0x88: 'I', 0x89: 'J', 0x8A: 'K', 0x8B: 'L',\n",
    "    0x8C: 'M', 0x8D: 'N', 0x8E: 'O', 0x8F: 'P',\n",
    "\n",
    "    # More upper case and symbols (row 9)\n",
    "    0x90: 'Q', 0x91: 'R', 0x92: 'S', 0x93: 'T', 0x94: 'U', 0x95: 'V',\n",
    "    0x96: 'W', 0x97: 'X', 0x98: 'Y', 0x99: 'Z', 0x9A: '(', 0x9B: ')',\n",
    "    0x9C: ':', 0x9D: ';', 0x9E: '[', 0x9F: ']',\n",
    "\n",
    "    # Lower case letters a-p (row A)\n",
    "    0xA0: 'a', 0xA1: 'b', 0xA2: 'c', 0xA3: 'd', 0xA4: 'e', 0xA5: 'f',\n",
    "    0xA6: 'g', 0xA7: 'h', 0xA8: 'i', 0xA9: 'j', 0xAA: 'k', 0xAB: 'l',\n",
    "    0xAC: 'm', 0xAD: 'n', 0xAE: 'o', 0xAF: 'p',\n",
    "\n",
    "    # Lower case letters q-z and symbols (row B)\n",
    "    0xB0: 'q', 0xB1: 'r', 0xB2: 's', 0xB3: 't', 0xB4: 'u', 0xB5: 'v',\n",
    "    0xB6: 'w', 0xB7: 'x', 0xB8: 'y', 0xB9: 'z', 0xBA: 'é', 0xBB: '\\'d',\n",
    "    0xBC: 'l', 0xBD: 's', 0xBE: 't', 0xBF: 'v',\n",
    "\n",
    "    # Row E (symbols and special characters)\n",
    "    0xE0: '\\'', 0xE1: 'P', 0xE2: 'M', 0xE3: '-', 0xE4: 'r', 0xE5: 'm',\n",
    "    0xE6: '?', 0xE7: '!', 0xE8: '.', 0xE9: 'ア', 0xEA: 'ウ', 0xEB: 'エ',\n",
    "    0xEC: '▷', 0xED: '▶', 0xEE: '▼', 0xEF: '♂',\n",
    "\n",
    "    # Row F (numbers and symbols)\n",
    "    0xF0: '¥', 0xF1: '×', 0xF2: '.', 0xF3: '/', 0xF4: ',', 0xF5: '♀',\n",
    "    0xF6: '0', 0xF7: '1', 0xF8: '2', 0xF9: '3', 0xFA: '4', 0xFB: '5',\n",
    "    0xFC: '6', 0xFD: '7', 0xFE: '8', 0xFF: '9',\n",
    "\n",
    "    # Special control characters\n",
    "    0x50: '@'  # String terminator\n",
    "}\n",
    "\n",
    "def decode_s(encoded_str: list[int]):\n",
    "    res = ''\n",
    "    for encoded_c in encoded_str:\n",
    "        if encoded_c == 0x50:\n",
    "            break\n",
    "        res += CHAR_MAP[encoded_c]\n",
    "    return res"
   ]
  },
  {
   "cell_type": "code",
   "execution_count": 47,
   "id": "dbb38a13-ce0d-47e1-842e-17756080e70d",
   "metadata": {},
   "outputs": [
    {
     "data": {
      "text/plain": [
       "'RED'"
      ]
     },
     "execution_count": 47,
     "metadata": {},
     "output_type": "execute_result"
    }
   ],
   "source": [
    "NAME_LENGTH = 11 # bytes\n",
    "PLAYER_NAME_START = 0xA598 # from our symbol table\n",
    "name = pyboy.memory[1, PLAYER_NAME_START:PLAYER_NAME_START + NAME_LENGTH] # important that we from rom bank 1\n",
    "decode_s(name)"
   ]
  },
  {
   "cell_type": "markdown",
   "id": "39a883c0-2b21-43f6-826e-910c5fbe700e",
   "metadata": {},
   "source": [
    "cool it works! we now know how to read from SRAM, now lets try loading in the game state, and then try editing it and creating a cool little modding interface so we can intialize the game from different positions and run it\n",
    "\n",
    "the heirarchy of the game data looks something like this\n",
    "\n",
    "```\n",
    "sGameData::\n",
    "sPlayerName::  ds NAME_LENGTH\n",
    "sMainData::    ds wMainDataEnd - wMainDataStart\n",
    "sSpriteData::  ds wSpriteDataEnd - wSpriteDataStart\n",
    "sPartyData::   ds wPartyDataEnd - wPartyDataStart\n",
    "sCurBoxData::  ds wBoxDataEnd - wBoxDataStart\n",
    "sTileAnimations:: db\n",
    "sGameDataEnd::\n",
    "```"
   ]
  },
  {
   "cell_type": "markdown",
   "id": "121eeb97-18ad-400e-92f2-7ee227cd9fb2",
   "metadata": {},
   "source": [
    "so ideally we want to create a datastructure which can display in string/ ints what the values of all these things are, and then can update all these values as well, this is going to be a multi-stage process, lets first start by creating a little thing which can just read this\n",
    "\n",
    "we kind of want it to be recursive, something which describes the layout of a thing, then the layout of its components, sounds kinda like this can be a nested dict or maybe a tree?"
   ]
  },
  {
   "cell_type": "code",
   "execution_count": 51,
   "id": "1b262ee9-4746-4add-a74d-55470c051c17",
   "metadata": {},
   "outputs": [],
   "source": [
    "MAX_CHARACTERS=11\n",
    "GAME_DATA_LAYOUT = {\n",
    "    \"sGameData\": {\n",
    "        \"start_addr\": 0xa598,\n",
    "        \"size\": 3979,\n",
    "        \"rom_bank\": 1,\n",
    "        \"values\": [\n",
    "            \"sPlayerName\",\n",
    "            \"sMainData\",\n",
    "            \"sSpriteData\",\n",
    "            \"sPartyData\",\n",
    "            \"sCurBoxData\",\n",
    "            \"sTileAnimations\",\n",
    "            \"sGameDataEnd\"\n",
    "        ],\n",
    "        \"type\": \"struct\"\n",
    "    },\n",
    "    \"sPlayerName\": {\n",
    "        \"start_addr\": 0xa598,\n",
    "        \"size\": 0xa598 + MAX_CHARACTERS,\n",
    "        \"rom_bank\": 1,\n",
    "        \"type\": \"string\"\n",
    "    },\n",
    "    \"sMainData\": {\n",
    "        \"start_addr\": 0xa5a3,\n",
    "        \"rom_bank\": 1,\n",
    "        \"values\": [\n",
    "            \"wPokedexOwned\",\n",
    "            \"wPokedexSeen\",\n",
    "            \"wNumBagItems\",\n",
    "            \"wBagItems\",\n",
    "            \"wPlayerMoney\",\n",
    "            \"wRivalName\",\n",
    "            \"WOptions\",\n",
    "            \"wObtainedBadges\",\n",
    "            \"wUnusedObtainedBadges\",\n",
    "            \"wLetterPrintingDelayFlags\",\n",
    "            \"wPlayerID\",\n",
    "            \"wMapMusicSoundID\",\n",
    "            \"wMapMusicROMBank\",\n",
    "            \"wMapPalOffset\",\n",
    "            \"wCurMap\",\n",
    "            \"wCurrentTileBlockMapViewPointer\",\n",
    "            \"wYCoord\",\n",
    "            \"wXCoord\",\n",
    "            \"wYBlockCoord\",\n",
    "            \"wXBlockCoord\",\n",
    "            \"wLastMap\",\n",
    "            \"wUnusedLastMapWidth\",\n",
    "            \"wCurMapHeader\",\n",
    "            \"wCurMapTileset\",\n",
    "            \"wCurMapHeight\",\n",
    "            \"wCurMapWidth\",\n",
    "            \"wCurMapDataPtr\",\n",
    "            \"wCurMapTextPtr\",\n",
    "            \"wCurMapScriptPtr\",\n",
    "            \"wCurMapConnections\",\n",
    "            \"wNorthConnectionHeader\",\n",
    "            \"wSouthConnectionHeader\",\n",
    "            \"wWestConnectionHeader\",\n",
    "            \"wEastConnectionHeader\",\n",
    "            \"wSpriteSet\",\n",
    "            \"wSpriteSetID\",\n",
    "            \"wObjectDataPointerTemp\",\n",
    "            \"\n",
    "        ]\n",
    "    },\n",
    "    \"sSpriteData\": {\n",
    "        \"start_addr\": 0xad2c,\n",
    "        \"rom_bank\": 1\n",
    "    },\n",
    "    \"sPartyData\": {\n",
    "        \"start_addr\": 0xaf2c,\n",
    "        \"rom_bank\": 1\n",
    "    },\n",
    "    \"sCurBoxData\": {\n",
    "        \"start_addr\": 0xb0c0,\n",
    "        \"rom_bank\": 1\n",
    "    },\n",
    "    \"sTileAnimations\": {\n",
    "        \"start_addr\": 0xb522,\n",
    "        \"rom_bank\": 1,\n",
    "        \"size\": 1\n",
    "    },\n",
    "}"
   ]
  },
  {
   "cell_type": "code",
   "execution_count": 45,
   "id": "d43a1664-acc9-41f6-a396-e3fa7299ab15",
   "metadata": {},
   "outputs": [],
   "source": [
    "MAIN_DATA_START = 0xA598\n",
    "DATA_LEN = 0xda80 - 0xd2f7 # 1929\n",
    "main_data = pyboy.memory[1, MAIN_DATA_START:MAIN_DATA_START + DATA_LEN]"
   ]
  }
 ],
 "metadata": {
  "kernelspec": {
   "display_name": "Python 3 (ipykernel)",
   "language": "python",
   "name": "python3"
  },
  "language_info": {
   "codemirror_mode": {
    "name": "ipython",
    "version": 3
   },
   "file_extension": ".py",
   "mimetype": "text/x-python",
   "name": "python",
   "nbconvert_exporter": "python",
   "pygments_lexer": "ipython3",
   "version": "3.10.16"
  }
 },
 "nbformat": 4,
 "nbformat_minor": 5
}
