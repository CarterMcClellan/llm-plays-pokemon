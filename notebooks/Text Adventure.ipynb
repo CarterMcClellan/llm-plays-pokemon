{
 "cells": [
  {
   "cell_type": "markdown",
   "id": "0b0c8e5a-d6bd-407b-ba9d-0e8aaccc22e2",
   "metadata": {},
   "source": [
    "### "
   ]
  },
  {
   "cell_type": "code",
   "execution_count": 3,
   "id": "455706b7-22da-451d-a3fa-95335beb5066",
   "metadata": {},
   "outputs": [],
   "source": [
    "from typing import NamedTuple"
   ]
  },
  {
   "cell_type": "code",
   "execution_count": 4,
   "id": "74f42194-0bbb-475d-8728-6f1dbbc1b6a6",
   "metadata": {},
   "outputs": [],
   "source": [
    "class Position(NamedTuple):\n",
    "    x: int\n",
    "    y: int"
   ]
  },
  {
   "cell_type": "code",
   "execution_count": 5,
   "id": "18841ef9-e9a8-4756-899b-43f93abccf4a",
   "metadata": {},
   "outputs": [],
   "source": [
    "class GameAction(Enum):\n",
    "    \"\"\"Base class for game actions\"\"\"\n",
    "    @classmethod\n",
    "    @abstractmethod\n",
    "    def get_all_actions(cls) -> List[\"GameAction\"]:\n",
    "        \"\"\"Returns all possible actions for the game\"\"\"\n",
    "        raise NotImplementedError\n",
    "\n",
    "    def __repr__(self):\n",
    "        return self.name.lower()\n",
    "    \n",
    "    @classmethod\n",
    "    @abstractmethod\n",
    "    def default_action(cls) -> \"GameAction\":\n",
    "        \"\"\"Returns the default action for the game\"\"\"\n",
    "        raise NotImplementedError\n",
    "\n",
    "class TextAdventureGameAction(GameAction):\n",
    "    UP = \"up\"\n",
    "    DOWN = \"down\"\n",
    "    LEFT = \"left\"\n",
    "    RIGHT = \"right\"\n",
    "\n",
    "    @classmethod\n",
    "    def get_all_actions(cls) -> List[\"TextAdventureGameAction\"]:\n",
    "        return [cls.UP, cls.DOWN, cls.LEFT, cls.RIGHT]\n",
    "    \n",
    "    def __repr__(self):\n",
    "        return self.name.lower()"
   ]
  },
  {
   "cell_type": "code",
   "execution_count": 6,
   "id": "da21a3d8-d1e8-40c4-b560-fe1ae70f110c",
   "metadata": {},
   "outputs": [],
   "source": [
    "class TextAdventureGame:\n",
    "    def __init__(self, map_size: int = 8):\n",
    "        self.map = [\n",
    "            ['o', 'o', 'o', 'o', 'o', 'o', 'o', 'o'],\n",
    "            ['o', 'w', 'w', 'w', 'w', 'w', 'w', 'o'],\n",
    "            ['o', 'w', 'w', 'w', 'w', 'w', 'w', 'o'],\n",
    "            ['o', 'w', 'w', 'w', 'w', 'w', 'w', 'o'],\n",
    "            ['o', 'w', 'w', 'w', 'w', 'w', 'w', 'o'],\n",
    "            ['o', 'o', 'o', 'o', 'o', 'o', 'o', 'o']\n",
    "        ]\n",
    "        self.current_position = Position(1, 1)\n",
    "        self.previous_position = Position(1, 1)\n",
    "\n",
    "    def is_valid_move(self, x: int, y: int) -> bool:\n",
    "        if (0 <= y < len(self.map) and \n",
    "            0 <= x < len(self.map[0]) and \n",
    "            self.map[y][x] == 'w'):\n",
    "            return True\n",
    "        return False\n",
    "\n",
    "    def update(self, action: TextAdventureGameAction) -> bool:\n",
    "        new_x, new_y = self.current_position.x, self.current_position.y\n",
    "        \n",
    "        if action == TextAdventureGameAction.UP:\n",
    "            new_y -= 1\n",
    "        elif action == TextAdventureGameAction.DOWN:\n",
    "            new_y += 1\n",
    "        elif action == TextAdventureGameAction.LEFT:\n",
    "            new_x -= 1\n",
    "        elif action == TextAdventureGameAction.RIGHT:\n",
    "            new_x += 1\n",
    "\n",
    "        valid = self.is_valid_move(new_x, new_y)\n",
    "        if valid:\n",
    "            self.previous_position = self.current_position\n",
    "            self.current_position = Position(new_x, new_y)\n",
    "\n",
    "        return valid\n",
    "\n",
    "    def get_map_string(self) -> str:\n",
    "        self.map[self.previous_position.y][self.previous_position.x] = \"w\"\n",
    "        self.map[self.current_position.y][self.current_position.x] = \"p\"\n",
    "        return '\\n'.join([''.join(row) for row in self.map])"
   ]
  }
 ],
 "metadata": {
  "kernelspec": {
   "display_name": "Python 3 (ipykernel)",
   "language": "python",
   "name": "python3"
  },
  "language_info": {
   "codemirror_mode": {
    "name": "ipython",
    "version": 3
   },
   "file_extension": ".py",
   "mimetype": "text/x-python",
   "name": "python",
   "nbconvert_exporter": "python",
   "pygments_lexer": "ipython3",
   "version": "3.11.4"
  }
 },
 "nbformat": 4,
 "nbformat_minor": 5
}
